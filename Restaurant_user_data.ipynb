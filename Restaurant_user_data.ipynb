{
 "cells": [
  {
   "cell_type": "markdown",
   "id": "1e36f9a4-f065-48f1-8601-0ee67ac72e0b",
   "metadata": {},
   "source": [
    "### Restaurant user data\n",
    "* This data set holds information on 200 restaurant customers including demographics, dining preferences, and ratings.\n",
    "* The aim of this EDA is to investigate customer behavior patterns,\n",
    "* recognize influences on satisfaction, and provide insights\n",
    "* to assist in enhancing restaurant service and marketing practices."
   ]
  },
  {
   "cell_type": "code",
   "execution_count": 8,
   "id": "8ec3a94d-8b44-4bdb-a683-93a5efcc3bdc",
   "metadata": {},
   "outputs": [],
   "source": [
    "import pandas as pd\n",
    "import numpy as np\n",
    "import matplotlib.pyplot as plt\n",
    "import seaborn as sns"
   ]
  },
  {
   "cell_type": "code",
   "execution_count": 9,
   "id": "6297b2ad-c88b-4636-aefc-978b9410412e",
   "metadata": {},
   "outputs": [],
   "source": [
    "df= pd.read_csv(r\"Cuisine_rating.csv\", header=0)"
   ]
  },
  {
   "cell_type": "code",
   "execution_count": 10,
   "id": "ed4e67d1-2f43-4c8c-bd53-53d20fbf350c",
   "metadata": {},
   "outputs": [
    {
     "data": {
      "text/html": [
       "<div>\n",
       "<style scoped>\n",
       "    .dataframe tbody tr th:only-of-type {\n",
       "        vertical-align: middle;\n",
       "    }\n",
       "\n",
       "    .dataframe tbody tr th {\n",
       "        vertical-align: top;\n",
       "    }\n",
       "\n",
       "    .dataframe thead th {\n",
       "        text-align: right;\n",
       "    }\n",
       "</style>\n",
       "<table border=\"1\" class=\"dataframe\">\n",
       "  <thead>\n",
       "    <tr style=\"text-align: right;\">\n",
       "      <th></th>\n",
       "      <th>User ID</th>\n",
       "      <th>Area code</th>\n",
       "      <th>Location</th>\n",
       "      <th>Gender</th>\n",
       "      <th>YOB</th>\n",
       "      <th>Marital Status</th>\n",
       "      <th>Activity</th>\n",
       "      <th>Budget</th>\n",
       "      <th>Cuisines</th>\n",
       "      <th>Alcohol</th>\n",
       "      <th>Smoker</th>\n",
       "      <th>Food Rating</th>\n",
       "      <th>Service Rating</th>\n",
       "      <th>Overall Rating</th>\n",
       "      <th>Often A S</th>\n",
       "    </tr>\n",
       "  </thead>\n",
       "  <tbody>\n",
       "    <tr>\n",
       "      <th>0</th>\n",
       "      <td>1</td>\n",
       "      <td>153</td>\n",
       "      <td>Upper East Side,NY</td>\n",
       "      <td>Female</td>\n",
       "      <td>2006</td>\n",
       "      <td>Single</td>\n",
       "      <td>Professional</td>\n",
       "      <td>3</td>\n",
       "      <td>Japanese</td>\n",
       "      <td>Never</td>\n",
       "      <td>Never</td>\n",
       "      <td>5</td>\n",
       "      <td>4</td>\n",
       "      <td>4.5</td>\n",
       "      <td>No</td>\n",
       "    </tr>\n",
       "    <tr>\n",
       "      <th>1</th>\n",
       "      <td>2</td>\n",
       "      <td>123</td>\n",
       "      <td>St. George,NY</td>\n",
       "      <td>Female</td>\n",
       "      <td>1991</td>\n",
       "      <td>Married</td>\n",
       "      <td>Student</td>\n",
       "      <td>3</td>\n",
       "      <td>Indian</td>\n",
       "      <td>Never</td>\n",
       "      <td>Socially</td>\n",
       "      <td>1</td>\n",
       "      <td>1</td>\n",
       "      <td>1.0</td>\n",
       "      <td>No</td>\n",
       "    </tr>\n",
       "    <tr>\n",
       "      <th>2</th>\n",
       "      <td>3</td>\n",
       "      <td>122</td>\n",
       "      <td>Upper West Side,NY</td>\n",
       "      <td>Male</td>\n",
       "      <td>1977</td>\n",
       "      <td>Single</td>\n",
       "      <td>Student</td>\n",
       "      <td>5</td>\n",
       "      <td>Seafood</td>\n",
       "      <td>Often</td>\n",
       "      <td>Often</td>\n",
       "      <td>5</td>\n",
       "      <td>5</td>\n",
       "      <td>5.0</td>\n",
       "      <td>Yes</td>\n",
       "    </tr>\n",
       "    <tr>\n",
       "      <th>3</th>\n",
       "      <td>4</td>\n",
       "      <td>153</td>\n",
       "      <td>Upper East Side,NY</td>\n",
       "      <td>Female</td>\n",
       "      <td>1956</td>\n",
       "      <td>Married</td>\n",
       "      <td>Professional</td>\n",
       "      <td>5</td>\n",
       "      <td>Japanese</td>\n",
       "      <td>Never</td>\n",
       "      <td>Socially</td>\n",
       "      <td>3</td>\n",
       "      <td>1</td>\n",
       "      <td>2.0</td>\n",
       "      <td>No</td>\n",
       "    </tr>\n",
       "    <tr>\n",
       "      <th>4</th>\n",
       "      <td>5</td>\n",
       "      <td>129</td>\n",
       "      <td>Central Park,NY</td>\n",
       "      <td>Male</td>\n",
       "      <td>1997</td>\n",
       "      <td>Single</td>\n",
       "      <td>Student</td>\n",
       "      <td>4</td>\n",
       "      <td>Filipino</td>\n",
       "      <td>Socially</td>\n",
       "      <td>Never</td>\n",
       "      <td>2</td>\n",
       "      <td>4</td>\n",
       "      <td>3.0</td>\n",
       "      <td>No</td>\n",
       "    </tr>\n",
       "    <tr>\n",
       "      <th>...</th>\n",
       "      <td>...</td>\n",
       "      <td>...</td>\n",
       "      <td>...</td>\n",
       "      <td>...</td>\n",
       "      <td>...</td>\n",
       "      <td>...</td>\n",
       "      <td>...</td>\n",
       "      <td>...</td>\n",
       "      <td>...</td>\n",
       "      <td>...</td>\n",
       "      <td>...</td>\n",
       "      <td>...</td>\n",
       "      <td>...</td>\n",
       "      <td>...</td>\n",
       "      <td>...</td>\n",
       "    </tr>\n",
       "    <tr>\n",
       "      <th>195</th>\n",
       "      <td>196</td>\n",
       "      <td>175</td>\n",
       "      <td>St. George,NY</td>\n",
       "      <td>Female</td>\n",
       "      <td>1982</td>\n",
       "      <td>Single</td>\n",
       "      <td>Professional</td>\n",
       "      <td>4</td>\n",
       "      <td>French</td>\n",
       "      <td>Never</td>\n",
       "      <td>Socially</td>\n",
       "      <td>1</td>\n",
       "      <td>2</td>\n",
       "      <td>1.5</td>\n",
       "      <td>No</td>\n",
       "    </tr>\n",
       "    <tr>\n",
       "      <th>196</th>\n",
       "      <td>197</td>\n",
       "      <td>170</td>\n",
       "      <td>Upper West Side,NY</td>\n",
       "      <td>Female</td>\n",
       "      <td>2000</td>\n",
       "      <td>Married</td>\n",
       "      <td>Student</td>\n",
       "      <td>4</td>\n",
       "      <td>Chinese</td>\n",
       "      <td>Never</td>\n",
       "      <td>Often</td>\n",
       "      <td>1</td>\n",
       "      <td>2</td>\n",
       "      <td>1.5</td>\n",
       "      <td>No</td>\n",
       "    </tr>\n",
       "    <tr>\n",
       "      <th>197</th>\n",
       "      <td>198</td>\n",
       "      <td>160</td>\n",
       "      <td>St. George,NY</td>\n",
       "      <td>Female</td>\n",
       "      <td>2006</td>\n",
       "      <td>Single</td>\n",
       "      <td>Professional</td>\n",
       "      <td>5</td>\n",
       "      <td>Japanese</td>\n",
       "      <td>Never</td>\n",
       "      <td>Often</td>\n",
       "      <td>5</td>\n",
       "      <td>2</td>\n",
       "      <td>3.5</td>\n",
       "      <td>No</td>\n",
       "    </tr>\n",
       "    <tr>\n",
       "      <th>198</th>\n",
       "      <td>199</td>\n",
       "      <td>130</td>\n",
       "      <td>St. George,NY</td>\n",
       "      <td>Male</td>\n",
       "      <td>2002</td>\n",
       "      <td>Married</td>\n",
       "      <td>Student</td>\n",
       "      <td>3</td>\n",
       "      <td>Filipino</td>\n",
       "      <td>Never</td>\n",
       "      <td>Socially</td>\n",
       "      <td>3</td>\n",
       "      <td>2</td>\n",
       "      <td>2.5</td>\n",
       "      <td>No</td>\n",
       "    </tr>\n",
       "    <tr>\n",
       "      <th>199</th>\n",
       "      <td>200</td>\n",
       "      <td>140</td>\n",
       "      <td>Upper East Side,NY</td>\n",
       "      <td>Male</td>\n",
       "      <td>2005</td>\n",
       "      <td>Married</td>\n",
       "      <td>Student</td>\n",
       "      <td>4</td>\n",
       "      <td>French</td>\n",
       "      <td>Never</td>\n",
       "      <td>Never</td>\n",
       "      <td>3</td>\n",
       "      <td>2</td>\n",
       "      <td>2.5</td>\n",
       "      <td>No</td>\n",
       "    </tr>\n",
       "  </tbody>\n",
       "</table>\n",
       "<p>200 rows × 15 columns</p>\n",
       "</div>"
      ],
      "text/plain": [
       "     User ID  Area code            Location  Gender   YOB Marital Status  \\\n",
       "0          1        153  Upper East Side,NY  Female  2006         Single   \n",
       "1          2        123       St. George,NY  Female  1991        Married   \n",
       "2          3        122  Upper West Side,NY    Male  1977         Single   \n",
       "3          4        153  Upper East Side,NY  Female  1956        Married   \n",
       "4          5        129     Central Park,NY    Male  1997         Single   \n",
       "..       ...        ...                 ...     ...   ...            ...   \n",
       "195      196        175       St. George,NY  Female  1982         Single   \n",
       "196      197        170  Upper West Side,NY  Female  2000        Married   \n",
       "197      198        160       St. George,NY  Female  2006         Single   \n",
       "198      199        130       St. George,NY    Male  2002        Married   \n",
       "199      200        140  Upper East Side,NY    Male  2005        Married   \n",
       "\n",
       "         Activity  Budget  Cuisines  Alcohol     Smoker  Food Rating  \\\n",
       "0    Professional       3  Japanese     Never     Never            5   \n",
       "1         Student       3    Indian     Never  Socially            1   \n",
       "2         Student       5   Seafood     Often     Often            5   \n",
       "3    Professional       5  Japanese     Never  Socially            3   \n",
       "4         Student       4  Filipino  Socially     Never            2   \n",
       "..            ...     ...       ...       ...       ...          ...   \n",
       "195  Professional       4    French     Never  Socially            1   \n",
       "196       Student       4   Chinese     Never     Often            1   \n",
       "197  Professional       5  Japanese     Never     Often            5   \n",
       "198       Student       3  Filipino     Never  Socially            3   \n",
       "199       Student       4    French     Never     Never            3   \n",
       "\n",
       "     Service Rating  Overall Rating Often A S  \n",
       "0                 4             4.5        No  \n",
       "1                 1             1.0        No  \n",
       "2                 5             5.0       Yes  \n",
       "3                 1             2.0        No  \n",
       "4                 4             3.0        No  \n",
       "..              ...             ...       ...  \n",
       "195               2             1.5        No  \n",
       "196               2             1.5        No  \n",
       "197               2             3.5        No  \n",
       "198               2             2.5        No  \n",
       "199               2             2.5        No  \n",
       "\n",
       "[200 rows x 15 columns]"
      ]
     },
     "execution_count": 10,
     "metadata": {},
     "output_type": "execute_result"
    }
   ],
   "source": [
    "df"
   ]
  },
  {
   "cell_type": "code",
   "execution_count": 11,
   "id": "09daacc1-c87a-484a-af5d-35e47ea92fb1",
   "metadata": {},
   "outputs": [
    {
     "data": {
      "text/plain": [
       "(200, 15)"
      ]
     },
     "execution_count": 11,
     "metadata": {},
     "output_type": "execute_result"
    }
   ],
   "source": [
    "df.shape"
   ]
  },
  {
   "cell_type": "code",
   "execution_count": 12,
   "id": "ae41bfad-b0d1-4da8-bb54-bd61ce4565f2",
   "metadata": {},
   "outputs": [
    {
     "name": "stdout",
     "output_type": "stream",
     "text": [
      "\n",
      "Missing Values:\n",
      "User ID           0\n",
      "Area code         0\n",
      "Location          0\n",
      "Gender            0\n",
      "YOB               0\n",
      "Marital Status    0\n",
      "Activity          0\n",
      "Budget            0\n",
      "Cuisines          0\n",
      "Alcohol           0\n",
      "Smoker            0\n",
      "Food Rating       0\n",
      "Service Rating    0\n",
      "Overall Rating    0\n",
      "Often A S         0\n",
      "dtype: int64\n"
     ]
    }
   ],
   "source": [
    "# Searching for any null values.\n",
    "print(\"\\nMissing Values:\")\n",
    "print(df.isnull().sum())"
   ]
  },
  {
   "cell_type": "code",
   "execution_count": 13,
   "id": "ca56dfbd-2056-4786-a4b4-3e82d5f52cfb",
   "metadata": {},
   "outputs": [
    {
     "name": "stdout",
     "output_type": "stream",
     "text": [
      "\n",
      "Dataset Info:\n",
      "<class 'pandas.core.frame.DataFrame'>\n",
      "RangeIndex: 200 entries, 0 to 199\n",
      "Data columns (total 15 columns):\n",
      " #   Column          Non-Null Count  Dtype  \n",
      "---  ------          --------------  -----  \n",
      " 0   User ID         200 non-null    int64  \n",
      " 1   Area code       200 non-null    int64  \n",
      " 2   Location        200 non-null    object \n",
      " 3   Gender          200 non-null    object \n",
      " 4   YOB             200 non-null    int64  \n",
      " 5   Marital Status  200 non-null    object \n",
      " 6   Activity        200 non-null    object \n",
      " 7   Budget          200 non-null    int64  \n",
      " 8   Cuisines        200 non-null    object \n",
      " 9   Alcohol         200 non-null    object \n",
      " 10  Smoker          200 non-null    object \n",
      " 11  Food Rating     200 non-null    int64  \n",
      " 12  Service Rating  200 non-null    int64  \n",
      " 13  Overall Rating  200 non-null    float64\n",
      " 14  Often A S       200 non-null    object \n",
      "dtypes: float64(1), int64(6), object(8)\n",
      "memory usage: 23.6+ KB\n"
     ]
    }
   ],
   "source": [
    "print(\"\\nDataset Info:\")\n",
    "df.info()"
   ]
  },
  {
   "cell_type": "markdown",
   "id": "8a935a91-83d5-459c-8fdc-e1c99fc5729b",
   "metadata": {},
   "source": [
    "#### Inserting an age column"
   ]
  },
  {
   "cell_type": "code",
   "execution_count": 14,
   "id": "358279a6-5f2a-4aee-8cf6-f7a3adc13f9a",
   "metadata": {},
   "outputs": [],
   "source": [
    "df[\"Age\"] = 2025 - df[\"YOB\"]"
   ]
  },
  {
   "cell_type": "code",
   "execution_count": 15,
   "id": "90379a2e-8502-4a6e-b975-4dfd1919ee23",
   "metadata": {},
   "outputs": [
    {
     "data": {
      "text/html": [
       "<div>\n",
       "<style scoped>\n",
       "    .dataframe tbody tr th:only-of-type {\n",
       "        vertical-align: middle;\n",
       "    }\n",
       "\n",
       "    .dataframe tbody tr th {\n",
       "        vertical-align: top;\n",
       "    }\n",
       "\n",
       "    .dataframe thead th {\n",
       "        text-align: right;\n",
       "    }\n",
       "</style>\n",
       "<table border=\"1\" class=\"dataframe\">\n",
       "  <thead>\n",
       "    <tr style=\"text-align: right;\">\n",
       "      <th></th>\n",
       "      <th>User ID</th>\n",
       "      <th>Area code</th>\n",
       "      <th>Location</th>\n",
       "      <th>Gender</th>\n",
       "      <th>YOB</th>\n",
       "      <th>Marital Status</th>\n",
       "      <th>Activity</th>\n",
       "      <th>Budget</th>\n",
       "      <th>Cuisines</th>\n",
       "      <th>Alcohol</th>\n",
       "      <th>Smoker</th>\n",
       "      <th>Food Rating</th>\n",
       "      <th>Service Rating</th>\n",
       "      <th>Overall Rating</th>\n",
       "      <th>Often A S</th>\n",
       "      <th>Age</th>\n",
       "    </tr>\n",
       "  </thead>\n",
       "  <tbody>\n",
       "    <tr>\n",
       "      <th>0</th>\n",
       "      <td>1</td>\n",
       "      <td>153</td>\n",
       "      <td>Upper East Side,NY</td>\n",
       "      <td>Female</td>\n",
       "      <td>2006</td>\n",
       "      <td>Single</td>\n",
       "      <td>Professional</td>\n",
       "      <td>3</td>\n",
       "      <td>Japanese</td>\n",
       "      <td>Never</td>\n",
       "      <td>Never</td>\n",
       "      <td>5</td>\n",
       "      <td>4</td>\n",
       "      <td>4.5</td>\n",
       "      <td>No</td>\n",
       "      <td>19</td>\n",
       "    </tr>\n",
       "    <tr>\n",
       "      <th>1</th>\n",
       "      <td>2</td>\n",
       "      <td>123</td>\n",
       "      <td>St. George,NY</td>\n",
       "      <td>Female</td>\n",
       "      <td>1991</td>\n",
       "      <td>Married</td>\n",
       "      <td>Student</td>\n",
       "      <td>3</td>\n",
       "      <td>Indian</td>\n",
       "      <td>Never</td>\n",
       "      <td>Socially</td>\n",
       "      <td>1</td>\n",
       "      <td>1</td>\n",
       "      <td>1.0</td>\n",
       "      <td>No</td>\n",
       "      <td>34</td>\n",
       "    </tr>\n",
       "    <tr>\n",
       "      <th>2</th>\n",
       "      <td>3</td>\n",
       "      <td>122</td>\n",
       "      <td>Upper West Side,NY</td>\n",
       "      <td>Male</td>\n",
       "      <td>1977</td>\n",
       "      <td>Single</td>\n",
       "      <td>Student</td>\n",
       "      <td>5</td>\n",
       "      <td>Seafood</td>\n",
       "      <td>Often</td>\n",
       "      <td>Often</td>\n",
       "      <td>5</td>\n",
       "      <td>5</td>\n",
       "      <td>5.0</td>\n",
       "      <td>Yes</td>\n",
       "      <td>48</td>\n",
       "    </tr>\n",
       "    <tr>\n",
       "      <th>3</th>\n",
       "      <td>4</td>\n",
       "      <td>153</td>\n",
       "      <td>Upper East Side,NY</td>\n",
       "      <td>Female</td>\n",
       "      <td>1956</td>\n",
       "      <td>Married</td>\n",
       "      <td>Professional</td>\n",
       "      <td>5</td>\n",
       "      <td>Japanese</td>\n",
       "      <td>Never</td>\n",
       "      <td>Socially</td>\n",
       "      <td>3</td>\n",
       "      <td>1</td>\n",
       "      <td>2.0</td>\n",
       "      <td>No</td>\n",
       "      <td>69</td>\n",
       "    </tr>\n",
       "    <tr>\n",
       "      <th>4</th>\n",
       "      <td>5</td>\n",
       "      <td>129</td>\n",
       "      <td>Central Park,NY</td>\n",
       "      <td>Male</td>\n",
       "      <td>1997</td>\n",
       "      <td>Single</td>\n",
       "      <td>Student</td>\n",
       "      <td>4</td>\n",
       "      <td>Filipino</td>\n",
       "      <td>Socially</td>\n",
       "      <td>Never</td>\n",
       "      <td>2</td>\n",
       "      <td>4</td>\n",
       "      <td>3.0</td>\n",
       "      <td>No</td>\n",
       "      <td>28</td>\n",
       "    </tr>\n",
       "    <tr>\n",
       "      <th>...</th>\n",
       "      <td>...</td>\n",
       "      <td>...</td>\n",
       "      <td>...</td>\n",
       "      <td>...</td>\n",
       "      <td>...</td>\n",
       "      <td>...</td>\n",
       "      <td>...</td>\n",
       "      <td>...</td>\n",
       "      <td>...</td>\n",
       "      <td>...</td>\n",
       "      <td>...</td>\n",
       "      <td>...</td>\n",
       "      <td>...</td>\n",
       "      <td>...</td>\n",
       "      <td>...</td>\n",
       "      <td>...</td>\n",
       "    </tr>\n",
       "    <tr>\n",
       "      <th>195</th>\n",
       "      <td>196</td>\n",
       "      <td>175</td>\n",
       "      <td>St. George,NY</td>\n",
       "      <td>Female</td>\n",
       "      <td>1982</td>\n",
       "      <td>Single</td>\n",
       "      <td>Professional</td>\n",
       "      <td>4</td>\n",
       "      <td>French</td>\n",
       "      <td>Never</td>\n",
       "      <td>Socially</td>\n",
       "      <td>1</td>\n",
       "      <td>2</td>\n",
       "      <td>1.5</td>\n",
       "      <td>No</td>\n",
       "      <td>43</td>\n",
       "    </tr>\n",
       "    <tr>\n",
       "      <th>196</th>\n",
       "      <td>197</td>\n",
       "      <td>170</td>\n",
       "      <td>Upper West Side,NY</td>\n",
       "      <td>Female</td>\n",
       "      <td>2000</td>\n",
       "      <td>Married</td>\n",
       "      <td>Student</td>\n",
       "      <td>4</td>\n",
       "      <td>Chinese</td>\n",
       "      <td>Never</td>\n",
       "      <td>Often</td>\n",
       "      <td>1</td>\n",
       "      <td>2</td>\n",
       "      <td>1.5</td>\n",
       "      <td>No</td>\n",
       "      <td>25</td>\n",
       "    </tr>\n",
       "    <tr>\n",
       "      <th>197</th>\n",
       "      <td>198</td>\n",
       "      <td>160</td>\n",
       "      <td>St. George,NY</td>\n",
       "      <td>Female</td>\n",
       "      <td>2006</td>\n",
       "      <td>Single</td>\n",
       "      <td>Professional</td>\n",
       "      <td>5</td>\n",
       "      <td>Japanese</td>\n",
       "      <td>Never</td>\n",
       "      <td>Often</td>\n",
       "      <td>5</td>\n",
       "      <td>2</td>\n",
       "      <td>3.5</td>\n",
       "      <td>No</td>\n",
       "      <td>19</td>\n",
       "    </tr>\n",
       "    <tr>\n",
       "      <th>198</th>\n",
       "      <td>199</td>\n",
       "      <td>130</td>\n",
       "      <td>St. George,NY</td>\n",
       "      <td>Male</td>\n",
       "      <td>2002</td>\n",
       "      <td>Married</td>\n",
       "      <td>Student</td>\n",
       "      <td>3</td>\n",
       "      <td>Filipino</td>\n",
       "      <td>Never</td>\n",
       "      <td>Socially</td>\n",
       "      <td>3</td>\n",
       "      <td>2</td>\n",
       "      <td>2.5</td>\n",
       "      <td>No</td>\n",
       "      <td>23</td>\n",
       "    </tr>\n",
       "    <tr>\n",
       "      <th>199</th>\n",
       "      <td>200</td>\n",
       "      <td>140</td>\n",
       "      <td>Upper East Side,NY</td>\n",
       "      <td>Male</td>\n",
       "      <td>2005</td>\n",
       "      <td>Married</td>\n",
       "      <td>Student</td>\n",
       "      <td>4</td>\n",
       "      <td>French</td>\n",
       "      <td>Never</td>\n",
       "      <td>Never</td>\n",
       "      <td>3</td>\n",
       "      <td>2</td>\n",
       "      <td>2.5</td>\n",
       "      <td>No</td>\n",
       "      <td>20</td>\n",
       "    </tr>\n",
       "  </tbody>\n",
       "</table>\n",
       "<p>200 rows × 16 columns</p>\n",
       "</div>"
      ],
      "text/plain": [
       "     User ID  Area code            Location  Gender   YOB Marital Status  \\\n",
       "0          1        153  Upper East Side,NY  Female  2006         Single   \n",
       "1          2        123       St. George,NY  Female  1991        Married   \n",
       "2          3        122  Upper West Side,NY    Male  1977         Single   \n",
       "3          4        153  Upper East Side,NY  Female  1956        Married   \n",
       "4          5        129     Central Park,NY    Male  1997         Single   \n",
       "..       ...        ...                 ...     ...   ...            ...   \n",
       "195      196        175       St. George,NY  Female  1982         Single   \n",
       "196      197        170  Upper West Side,NY  Female  2000        Married   \n",
       "197      198        160       St. George,NY  Female  2006         Single   \n",
       "198      199        130       St. George,NY    Male  2002        Married   \n",
       "199      200        140  Upper East Side,NY    Male  2005        Married   \n",
       "\n",
       "         Activity  Budget  Cuisines  Alcohol     Smoker  Food Rating  \\\n",
       "0    Professional       3  Japanese     Never     Never            5   \n",
       "1         Student       3    Indian     Never  Socially            1   \n",
       "2         Student       5   Seafood     Often     Often            5   \n",
       "3    Professional       5  Japanese     Never  Socially            3   \n",
       "4         Student       4  Filipino  Socially     Never            2   \n",
       "..            ...     ...       ...       ...       ...          ...   \n",
       "195  Professional       4    French     Never  Socially            1   \n",
       "196       Student       4   Chinese     Never     Often            1   \n",
       "197  Professional       5  Japanese     Never     Often            5   \n",
       "198       Student       3  Filipino     Never  Socially            3   \n",
       "199       Student       4    French     Never     Never            3   \n",
       "\n",
       "     Service Rating  Overall Rating Often A S  Age  \n",
       "0                 4             4.5        No   19  \n",
       "1                 1             1.0        No   34  \n",
       "2                 5             5.0       Yes   48  \n",
       "3                 1             2.0        No   69  \n",
       "4                 4             3.0        No   28  \n",
       "..              ...             ...       ...  ...  \n",
       "195               2             1.5        No   43  \n",
       "196               2             1.5        No   25  \n",
       "197               2             3.5        No   19  \n",
       "198               2             2.5        No   23  \n",
       "199               2             2.5        No   20  \n",
       "\n",
       "[200 rows x 16 columns]"
      ]
     },
     "execution_count": 15,
     "metadata": {},
     "output_type": "execute_result"
    }
   ],
   "source": [
    "df"
   ]
  },
  {
   "cell_type": "markdown",
   "id": "cde63485-f673-47cf-a9ac-bff4db371112",
   "metadata": {},
   "source": [
    "#### Q1: Age Distribution "
   ]
  },
  {
   "cell_type": "code",
   "execution_count": 16,
   "id": "f26dffce-ebc1-4c0d-8818-a8f22b5d8ca0",
   "metadata": {},
   "outputs": [
    {
     "data": {
      "image/png": "[encoded data removed]",
      "text/plain": [
       "<Figure size 640x480 with 1 Axes>"
      ]
     },
     "metadata": {},
     "output_type": "display_data"
    }
   ],
   "source": [
    "plt.figure\n",
    "sns.histplot(df[\"Age\"], bins=10)\n",
    "plt.title(\"Age Distribution of Users\")\n",
    "plt.xlabel(\"Age\")\n",
    "plt.ylabel(\"Count\")\n",
    "plt.show()"
   ]
  },
  {
   "cell_type": "markdown",
   "id": "51fd8d32-ab4d-42e4-8b76-862fb73e44f5",
   "metadata": {},
   "source": [
    "The user base is primarily composed of young adults, with a secondary significant presence of users aged 50 and above."
   ]
  },
  {
   "cell_type": "markdown",
   "id": "6fdfbba6-6a0d-4881-b7f3-bf2deb0f5a25",
   "metadata": {},
   "source": [
    "#### Q2. Generate descriptive statistics of the columns."
   ]
  },
  {
   "cell_type": "code",
   "execution_count": 17,
   "id": "7366c97d-f7d8-45e7-8972-1447855818b2",
   "metadata": {},
   "outputs": [
    {
     "data": {
      "text/html": [
       "<div>\n",
       "<style scoped>\n",
       "    .dataframe tbody tr th:only-of-type {\n",
       "        vertical-align: middle;\n",
       "    }\n",
       "\n",
       "    .dataframe tbody tr th {\n",
       "        vertical-align: top;\n",
       "    }\n",
       "\n",
       "    .dataframe thead th {\n",
       "        text-align: right;\n",
       "    }\n",
       "</style>\n",
       "<table border=\"1\" class=\"dataframe\">\n",
       "  <thead>\n",
       "    <tr style=\"text-align: right;\">\n",
       "      <th></th>\n",
       "      <th>User ID</th>\n",
       "      <th>Area code</th>\n",
       "      <th>YOB</th>\n",
       "      <th>Budget</th>\n",
       "      <th>Food Rating</th>\n",
       "      <th>Service Rating</th>\n",
       "      <th>Overall Rating</th>\n",
       "      <th>Age</th>\n",
       "    </tr>\n",
       "  </thead>\n",
       "  <tbody>\n",
       "    <tr>\n",
       "      <th>count</th>\n",
       "      <td>200.000000</td>\n",
       "      <td>200.000000</td>\n",
       "      <td>200.000000</td>\n",
       "      <td>200.000000</td>\n",
       "      <td>200.000000</td>\n",
       "      <td>200.000000</td>\n",
       "      <td>200.000000</td>\n",
       "      <td>200.000000</td>\n",
       "    </tr>\n",
       "    <tr>\n",
       "      <th>mean</th>\n",
       "      <td>100.500000</td>\n",
       "      <td>141.060000</td>\n",
       "      <td>1984.830000</td>\n",
       "      <td>3.815000</td>\n",
       "      <td>3.220000</td>\n",
       "      <td>3.230000</td>\n",
       "      <td>3.225000</td>\n",
       "      <td>40.170000</td>\n",
       "    </tr>\n",
       "    <tr>\n",
       "      <th>std</th>\n",
       "      <td>57.879185</td>\n",
       "      <td>26.130257</td>\n",
       "      <td>16.809339</td>\n",
       "      <td>1.056578</td>\n",
       "      <td>1.411226</td>\n",
       "      <td>1.526022</td>\n",
       "      <td>1.079445</td>\n",
       "      <td>16.809339</td>\n",
       "    </tr>\n",
       "    <tr>\n",
       "      <th>min</th>\n",
       "      <td>1.000000</td>\n",
       "      <td>101.000000</td>\n",
       "      <td>1955.000000</td>\n",
       "      <td>1.000000</td>\n",
       "      <td>1.000000</td>\n",
       "      <td>1.000000</td>\n",
       "      <td>1.000000</td>\n",
       "      <td>16.000000</td>\n",
       "    </tr>\n",
       "    <tr>\n",
       "      <th>25%</th>\n",
       "      <td>50.750000</td>\n",
       "      <td>123.000000</td>\n",
       "      <td>1971.000000</td>\n",
       "      <td>3.000000</td>\n",
       "      <td>2.000000</td>\n",
       "      <td>2.000000</td>\n",
       "      <td>2.500000</td>\n",
       "      <td>25.000000</td>\n",
       "    </tr>\n",
       "    <tr>\n",
       "      <th>50%</th>\n",
       "      <td>100.500000</td>\n",
       "      <td>135.000000</td>\n",
       "      <td>1987.000000</td>\n",
       "      <td>4.000000</td>\n",
       "      <td>3.000000</td>\n",
       "      <td>3.000000</td>\n",
       "      <td>3.000000</td>\n",
       "      <td>38.000000</td>\n",
       "    </tr>\n",
       "    <tr>\n",
       "      <th>75%</th>\n",
       "      <td>150.250000</td>\n",
       "      <td>158.000000</td>\n",
       "      <td>2000.000000</td>\n",
       "      <td>5.000000</td>\n",
       "      <td>5.000000</td>\n",
       "      <td>5.000000</td>\n",
       "      <td>4.000000</td>\n",
       "      <td>54.000000</td>\n",
       "    </tr>\n",
       "    <tr>\n",
       "      <th>max</th>\n",
       "      <td>200.000000</td>\n",
       "      <td>199.000000</td>\n",
       "      <td>2009.000000</td>\n",
       "      <td>5.000000</td>\n",
       "      <td>5.000000</td>\n",
       "      <td>5.000000</td>\n",
       "      <td>5.000000</td>\n",
       "      <td>70.000000</td>\n",
       "    </tr>\n",
       "  </tbody>\n",
       "</table>\n",
       "</div>"
      ],
      "text/plain": [
       "          User ID   Area code          YOB      Budget  Food Rating  \\\n",
       "count  200.000000  200.000000   200.000000  200.000000   200.000000   \n",
       "mean   100.500000  141.060000  1984.830000    3.815000     3.220000   \n",
       "std     57.879185   26.130257    16.809339    1.056578     1.411226   \n",
       "min      1.000000  101.000000  1955.000000    1.000000     1.000000   \n",
       "25%     50.750000  123.000000  1971.000000    3.000000     2.000000   \n",
       "50%    100.500000  135.000000  1987.000000    4.000000     3.000000   \n",
       "75%    150.250000  158.000000  2000.000000    5.000000     5.000000   \n",
       "max    200.000000  199.000000  2009.000000    5.000000     5.000000   \n",
       "\n",
       "       Service Rating  Overall Rating         Age  \n",
       "count      200.000000      200.000000  200.000000  \n",
       "mean         3.230000        3.225000   40.170000  \n",
       "std          1.526022        1.079445   16.809339  \n",
       "min          1.000000        1.000000   16.000000  \n",
       "25%          2.000000        2.500000   25.000000  \n",
       "50%          3.000000        3.000000   38.000000  \n",
       "75%          5.000000        4.000000   54.000000  \n",
       "max          5.000000        5.000000   70.000000  "
      ]
     },
     "execution_count": 17,
     "metadata": {},
     "output_type": "execute_result"
    }
   ],
   "source": [
    "df.describe()"
   ]
  },
  {
   "cell_type": "markdown",
   "id": "e971fc4b-a63c-4775-878d-c39d992af69d",
   "metadata": {},
   "source": [
    "#### Q3. What are the top 5 most frequent 'Cuisines'?"
   ]
  },
  {
   "cell_type": "code",
   "execution_count": 18,
   "id": "92fe7f4a-3509-4038-8aab-215ae595ebe8",
   "metadata": {},
   "outputs": [
    {
     "name": "stdout",
     "output_type": "stream",
     "text": [
      "Cuisines\n",
      "Japanese    36\n",
      "French      34\n",
      "Filipino    34\n",
      "Indian      32\n",
      "Chinese     24\n",
      "Name: count, dtype: int64\n"
     ]
    },
    {
     "data": {
      "text/plain": [
       "Text(0, 0.5, 'Number of Users')"
      ]
     },
     "execution_count": 18,
     "metadata": {},
     "output_type": "execute_result"
    },
    {
     "data": {
      "image/png": "[encoded data removed]",
      "text/plain": [
       "<Figure size 640x480 with 1 Axes>"
      ]
     },
     "metadata": {},
     "output_type": "display_data"
    }
   ],
   "source": [
    "print(df['Cuisines'].value_counts().head(5))\n",
    "plt.figure\n",
    "df['Cuisines'].value_counts().head(5).plot(kind='bar',color='skyblue')\n",
    "plt.title('Top 5 Most Frequent Cuisines')\n",
    "plt.xlabel('Cuisine Type')\n",
    "plt.ylabel('Number of Users')"
   ]
  },
  {
   "cell_type": "markdown",
   "id": "4cad569b-13a8-4c23-83d5-5a20a108456e",
   "metadata": {},
   "source": [
    "Japanese and French are the most popular choices, accounting for over 70% of entries."
   ]
  },
  {
   "cell_type": "markdown",
   "id": "43b4fba1-e24b-48c0-8c03-9664c28b54b5",
   "metadata": {},
   "source": [
    "#### Q4. What is the distribution of the 'Year of Birth (YOB)' for the dataset?"
   ]
  },
  {
   "cell_type": "code",
   "execution_count": 19,
   "id": "08bb3e9b-58c6-4b4e-9b52-275466c3d156",
   "metadata": {},
   "outputs": [
    {
     "data": {
      "text/plain": [
       "<Axes: >"
      ]
     },
     "execution_count": 19,
     "metadata": {},
     "output_type": "execute_result"
    },
    {
     "data": {
      "image/png": "[encoded data removed]",
      "text/plain": [
       "<Figure size 640x480 with 1 Axes>"
      ]
     },
     "metadata": {},
     "output_type": "display_data"
    }
   ],
   "source": [
    "df.boxplot(column='YOB')"
   ]
  },
  {
   "cell_type": "markdown",
   "id": "f72cc423-cfa3-42e7-87f3-02bbf72aac73",
   "metadata": {},
   "source": [
    "The median YOB in the dataset is 1988, with half born before and half after. The core birth years span nearly three decades, with the median line slightly below the center. The distribution is symmetrical but possibly with a slight negative skew, with the oldest birth years closer to the median."
   ]
  },
  {
   "cell_type": "markdown",
   "id": "569c3df9-b992-4e9b-be54-4a73ac414fc8",
   "metadata": {},
   "source": [
    "#### Q5. Overall Rating by Gender"
   ]
  },
  {
   "cell_type": "code",
   "execution_count": 20,
   "id": "ef92ff75-59ff-4580-a29b-de0fc04dfd8c",
   "metadata": {},
   "outputs": [
    {
     "data": {
      "image/png": "[encoded data removed]",
      "text/plain": [
       "<Figure size 600x400 with 1 Axes>"
      ]
     },
     "metadata": {},
     "output_type": "display_data"
    }
   ],
   "source": [
    "plt.figure(figsize=(6,4))\n",
    "sns.barplot(x=\"Gender\", y=\"Overall Rating\", data=df, estimator=np.mean)\n",
    "plt.title(\"Average Overall Rating by Gender\")\n",
    "plt.show()"
   ]
  },
  {
   "cell_type": "markdown",
   "id": "1dcc040d-5370-4add-a9c8-82247a0d825c",
   "metadata": {},
   "source": [
    "Females have a slightly higher average overall rating (approximately 3.3) compared to Males (approximately 3.1)."
   ]
  },
  {
   "cell_type": "markdown",
   "id": "ce6bf6de-8464-4cc2-9361-2b2ad0b80736",
   "metadata": {},
   "source": [
    "#### Q6. Service Rating Distribution"
   ]
  },
  {
   "cell_type": "code",
   "execution_count": 21,
   "id": "a7b0d7c1-63b8-4b23-a2f9-9290f839c88a",
   "metadata": {
    "scrolled": true
   },
   "outputs": [
    {
     "data": {
      "image/png": "[encoded data removed]",
      "text/plain": [
       "<Figure size 640x480 with 1 Axes>"
      ]
     },
     "metadata": {},
     "output_type": "display_data"
    }
   ],
   "source": [
    "sns.countplot(x='Service Rating', data=df)\n",
    "plt.title(\"Service Rating Distribution\")\n",
    "plt.show()"
   ]
  },
  {
   "cell_type": "markdown",
   "id": "ef7270c1-c235-4eec-b5a8-188783bcbd1d",
   "metadata": {},
   "source": [
    "The service evokes strong reactions,as indicated by the extreme numbers of both the highest (5) and lowest (2) ratings. The firm is either creating predominantly very satisfied or fairly dissatisfied customers, with few users falling into the middle or just-above-average category."
   ]
  },
  {
   "cell_type": "markdown",
   "id": "c6d44ca7-24b5-4ef3-ab7c-9e62ef332d0a",
   "metadata": {},
   "source": [
    "#### Q7. Location vs Overall Rating"
   ]
  },
  {
   "cell_type": "code",
   "execution_count": 22,
   "id": "3d35eee1-9c3f-466c-bc50-d175e5b50b23",
   "metadata": {},
   "outputs": [
    {
     "data": {
      "image/png": "[encoded data removed]",
      "text/plain": [
       "<Figure size 640x480 with 1 Axes>"
      ]
     },
     "metadata": {},
     "output_type": "display_data"
    }
   ],
   "source": [
    "top_locs = df['Location'].value_counts().index[:10]\n",
    "sns.barplot(x='Location', y='Overall Rating', data=df[df['Location'].isin(top_locs)])\n",
    "plt.xticks(rotation=80)\n",
    "plt.title(\"Average Rating by Location\")\n",
    "plt.show()"
   ]
  },
  {
   "cell_type": "markdown",
   "id": "0ab14f19-0cc0-4937-bbe3-104a94747cb7",
   "metadata": {},
   "source": [
    "There is an observable difference in average satisfaction across locations, with Market City, NY showing the highest average rating. However, the differences are modest, and the overlapping confidence intervals indicate that the average ratings for many of the areas are not statistically distinguishable."
   ]
  },
  {
   "cell_type": "markdown",
   "id": "1f536576-3413-4416-8f4c-5b18d584447f",
   "metadata": {},
   "source": [
    "#### Q8. Do smoking habits differ by marital status?"
   ]
  },
  {
   "cell_type": "code",
   "execution_count": 23,
   "id": "4eef52cf-e568-43d2-9a7a-fb35e1197f1e",
   "metadata": {},
   "outputs": [
    {
     "data": {
      "text/html": [
       "<div>\n",
       "<style scoped>\n",
       "    .dataframe tbody tr th:only-of-type {\n",
       "        vertical-align: middle;\n",
       "    }\n",
       "\n",
       "    .dataframe tbody tr th {\n",
       "        vertical-align: top;\n",
       "    }\n",
       "\n",
       "    .dataframe thead th {\n",
       "        text-align: right;\n",
       "    }\n",
       "</style>\n",
       "<table border=\"1\" class=\"dataframe\">\n",
       "  <thead>\n",
       "    <tr style=\"text-align: right;\">\n",
       "      <th>col_0</th>\n",
       "      <th>Smoker</th>\n",
       "    </tr>\n",
       "    <tr>\n",
       "      <th>Marital Status</th>\n",
       "      <th></th>\n",
       "    </tr>\n",
       "  </thead>\n",
       "  <tbody>\n",
       "    <tr>\n",
       "      <th>Divorced</th>\n",
       "      <td>14</td>\n",
       "    </tr>\n",
       "    <tr>\n",
       "      <th>Married</th>\n",
       "      <td>86</td>\n",
       "    </tr>\n",
       "    <tr>\n",
       "      <th>Single</th>\n",
       "      <td>100</td>\n",
       "    </tr>\n",
       "  </tbody>\n",
       "</table>\n",
       "</div>"
      ],
      "text/plain": [
       "col_0           Smoker\n",
       "Marital Status        \n",
       "Divorced            14\n",
       "Married             86\n",
       "Single             100"
      ]
     },
     "execution_count": 23,
     "metadata": {},
     "output_type": "execute_result"
    }
   ],
   "source": [
    "pd.crosstab(df['Marital Status'],['Smoker'])"
   ]
  },
  {
   "cell_type": "markdown",
   "id": "49e12fed-043d-47ca-81cb-6f8a93e2d026",
   "metadata": {},
   "source": [
    "Single individuals smoke slightly more."
   ]
  },
  {
   "cell_type": "markdown",
   "id": "210ad25d-5081-4622-aea8-a863a96136e6",
   "metadata": {},
   "source": [
    "#### Q9. Visualize age-based drinking habits."
   ]
  },
  {
   "cell_type": "code",
   "execution_count": 39,
   "id": "d8072ddf-933e-419f-969a-0f00a728bbde",
   "metadata": {},
   "outputs": [
    {
     "data": {
      "image/png": "[encoded data removed]",
      "text/plain": [
       "<Figure size 1000x600 with 1 Axes>"
      ]
     },
     "metadata": {},
     "output_type": "display_data"
    }
   ],
   "source": [
    "pd.crosstab(df['Age'],['Alcohol']).plot(kind='bar', figsize=(10,6))\n",
    "plt.title(\"Age vs Alcohol Consumption\")\n",
    "plt.xticks(rotation=90)\n",
    "plt.xlabel(\"Age\")\n",
    "plt.ylabel(\"Count\")\n",
    "plt.show()\n"
   ]
  },
  {
   "cell_type": "markdown",
   "id": "01324f4a-3ebf-4820-bc3c-6b4660c57a5e",
   "metadata": {},
   "source": [
    "Alcohol consumption counts appear to be concentrated in two main age groups: young adults (early to mid-20s) and a specific spike in the early 50s. Middle-aged individuals show the lowest and most stable counts."
   ]
  },
  {
   "cell_type": "markdown",
   "id": "fdc7b8a0-0c88-4e24-b8a6-3269e6eab416",
   "metadata": {},
   "source": [
    "#### Q.10 Average Budget by Age Group"
   ]
  },
  {
   "cell_type": "code",
   "execution_count": 49,
   "id": "9e73a5c6-0783-4a3f-849f-64114f5b4eef",
   "metadata": {},
   "outputs": [
    {
     "data": {
      "image/png": "[encoded data removed]",
      "text/plain": [
       "<Figure size 1500x800 with 1 Axes>"
      ]
     },
     "metadata": {},
     "output_type": "display_data"
    }
   ],
   "source": [
    "plt.figure(figsize=(15,8))\n",
    "sns.barplot(x='Age', y='Budget', data=df)\n",
    "plt.title(\"Budget by Age\")\n",
    "plt.show()\n"
   ]
  },
  {
   "cell_type": "markdown",
   "id": "8e2a46d9-4bea-42d4-8d2c-35755a6201c1",
   "metadata": {},
   "source": [
    "#### High variability within each age group means there's no reliable evidence of a strong, consistent relationship between age and average budget."
   ]
  },
  {
   "cell_type": "markdown",
   "id": "114ca87d-7d22-4fdc-b28a-9d50aebeff7c",
   "metadata": {},
   "source": [
    "#### Q11. Which 'Cuisines' are most popular among 'Students'?"
   ]
  },
  {
   "cell_type": "code",
   "execution_count": 57,
   "id": "aa6a5196-3d97-4d9f-9805-86a25743008e",
   "metadata": {},
   "outputs": [
    {
     "data": {
      "text/plain": [
       "<Axes: xlabel='Cuisines'>"
      ]
     },
     "execution_count": 57,
     "metadata": {},
     "output_type": "execute_result"
    },
    {
     "data": {
      "image/png": "[encoded data removed]",
      "text/plain": [
       "<Figure size 640x480 with 1 Axes>"
      ]
     },
     "metadata": {},
     "output_type": "display_data"
    }
   ],
   "source": [
    "df[df['Activity']=='Student']['Cuisines'].value_counts().head(5).plot()"
   ]
  },
  {
   "cell_type": "markdown",
   "id": "70f92573-7ff6-467a-b7cf-2de313c53fdd",
   "metadata": {},
   "source": [
    "The preference for Japanese cuisine is much stronger than for the other top cuisines, with the bottom three of the top five choices showing significantly lower and very similar popularity."
   ]
  },
  {
   "cell_type": "markdown",
   "id": "91c423c4-99cc-4525-9162-1627b2407fb1",
   "metadata": {},
   "source": [
    "#### Q12. What is the correlation between Food Rating, Service Rating, and the final Overall Rating?"
   ]
  },
  {
   "cell_type": "code",
   "execution_count": 59,
   "id": "2f65dd9e-5456-44b9-a882-a444930ac0cf",
   "metadata": {},
   "outputs": [
    {
     "data": {
      "text/html": [
       "<div>\n",
       "<style scoped>\n",
       "    .dataframe tbody tr th:only-of-type {\n",
       "        vertical-align: middle;\n",
       "    }\n",
       "\n",
       "    .dataframe tbody tr th {\n",
       "        vertical-align: top;\n",
       "    }\n",
       "\n",
       "    .dataframe thead th {\n",
       "        text-align: right;\n",
       "    }\n",
       "</style>\n",
       "<table border=\"1\" class=\"dataframe\">\n",
       "  <thead>\n",
       "    <tr style=\"text-align: right;\">\n",
       "      <th></th>\n",
       "      <th>Food Rating</th>\n",
       "      <th>Service Rating</th>\n",
       "      <th>Overall Rating</th>\n",
       "    </tr>\n",
       "  </thead>\n",
       "  <tbody>\n",
       "    <tr>\n",
       "      <th>Food Rating</th>\n",
       "      <td>1.000000</td>\n",
       "      <td>0.079056</td>\n",
       "      <td>0.709562</td>\n",
       "    </tr>\n",
       "    <tr>\n",
       "      <th>Service Rating</th>\n",
       "      <td>0.079056</td>\n",
       "      <td>1.000000</td>\n",
       "      <td>0.758532</td>\n",
       "    </tr>\n",
       "    <tr>\n",
       "      <th>Overall Rating</th>\n",
       "      <td>0.709562</td>\n",
       "      <td>0.758532</td>\n",
       "      <td>1.000000</td>\n",
       "    </tr>\n",
       "  </tbody>\n",
       "</table>\n",
       "</div>"
      ],
      "text/plain": [
       "                Food Rating  Service Rating  Overall Rating\n",
       "Food Rating        1.000000        0.079056        0.709562\n",
       "Service Rating     0.079056        1.000000        0.758532\n",
       "Overall Rating     0.709562        0.758532        1.000000"
      ]
     },
     "execution_count": 59,
     "metadata": {},
     "output_type": "execute_result"
    }
   ],
   "source": [
    "df[['Food Rating','Service Rating','Overall Rating']].corr()"
   ]
  },
  {
   "cell_type": "markdown",
   "id": "f5b77e72-9b5b-41e6-987c-e5d6c3da7902",
   "metadata": {},
   "source": [
    "The ratings for food and service are largely independent, suggesting that the quality of the food does not directly predict the quality of the service, and vice versa."
   ]
  },
  {
   "cell_type": "markdown",
   "id": "82593d31-2834-4850-aca4-42071ab938b6",
   "metadata": {},
   "source": [
    "#### Q13. Age Group vs Often A S"
   ]
  },
  {
   "cell_type": "code",
   "execution_count": 61,
   "id": "e90ab816-e632-4738-b77a-25cb0942294c",
   "metadata": {},
   "outputs": [
    {
     "data": {
      "image/png": "[encoded data removed]",
      "text/plain": [
       "<Figure size 800x500 with 1 Axes>"
      ]
     },
     "metadata": {},
     "output_type": "display_data"
    }
   ],
   "source": [
    "pd.crosstab(df['Age'], df['Often A S']).plot(kind='bar', figsize=(8,5))\n",
    "plt.title(\"Age Group vs Dining Frequency (Alone/Socially)\")\n",
    "plt.xlabel(\"Age Group\")\n",
    "plt.ylabel(\"Count\")\n",
    "plt.show()"
   ]
  },
  {
   "cell_type": "markdown",
   "id": "77b303a9-3ebd-491a-80a1-6435f15ac26c",
   "metadata": {},
   "source": [
    "Dining in the manner measured by the dominant \"No\" category is most common among young adults (18-27) and specific older ages (50 and 70), while the \"Yes\" category is infrequent across the entire age spectrum."
   ]
  },
  {
   "cell_type": "markdown",
   "id": "51d9cefe-616e-46a4-9f9f-8bab50805bd7",
   "metadata": {},
   "source": [
    "#### Customer satisfaction is primarily measured by overall rating, with service quality being the top priority. Strategies include investing in employee training, targeting Japanese cuisine, and focusing on location specificity."
   ]
  },
  {
   "cell_type": "code",
   "execution_count": null,
   "id": "dfb629b5-e388-4e41-9623-181ec32e422d",
   "metadata": {},
   "outputs": [],
   "source": []
  }
 ],
 "metadata": {
  "kernelspec": {
   "display_name": "Python [conda env:base] *",
   "language": "python",
   "name": "conda-base-py"
  },
  "language_info": {
   "codemirror_mode": {
    "name": "ipython",
    "version": 3
   },
   "file_extension": ".py",
   "mimetype": "text/x-python",
   "name": "python",
   "nbconvert_exporter": "python",
   "pygments_lexer": "ipython3",
   "version": "3.13.5"
  }
 },
 "nbformat": 4,
 "nbformat_minor": 5
}
